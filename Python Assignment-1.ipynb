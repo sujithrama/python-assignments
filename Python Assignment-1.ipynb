{
 "cells": [
  {
   "cell_type": "markdown",
   "metadata": {},
   "source": [
    "# ASSIGNMENT-1"
   ]
  },
  {
   "cell_type": "code",
   "execution_count": 1,
   "metadata": {},
   "outputs": [
    {
     "name": "stdout",
     "output_type": "stream",
     "text": [
      "Enter the year6\n",
      "tiger\n"
     ]
    }
   ],
   "source": [
    "#questiomn 1\n",
    "year = int(input(\"Enter the year\"))\n",
    "if year % 12 == 0 :\n",
    "  print(\"monkey\")\n",
    "elif year % 12 == 1 :\n",
    "  print(\"raoster\")\n",
    "elif year % 12 == 2 :\n",
    "  print(\"dog\")\n",
    "elif year % 12 == 3 :\n",
    "  print(\"pig\")\n",
    "elif year % 12 == 4 :\n",
    "  print(\"rat\")\n",
    "elif year % 12 == 5 :\n",
    "  print(\"ox\")\n",
    "elif year % 12 == 6 :\n",
    "  print(\"tiger\")\n",
    "elif year % 12 == 7 :\n",
    "  print(\"rabit\")\n",
    "elif year % 12 == 8 :\n",
    "  print(\"dragon\")\n",
    "elif year % 12 == 9 :\n",
    "  print(\"snake\")\n",
    "elif year % 12 == 10 :\n",
    "  print(\"horse\")\n",
    "else :\n",
    "  print(\"sheep\")"
   ]
  },
  {
   "cell_type": "code",
   "execution_count": 2,
   "metadata": {},
   "outputs": [
    {
     "name": "stdout",
     "output_type": "stream",
     "text": [
      "Distance to be travelled:700\n",
      "Weight of the goods:650\n",
      "Amount to be charged: 3500\n"
     ]
    }
   ],
   "source": [
    "#question 2\n",
    "dist=int(input(\"Distance to be travelled:\"))\n",
    "weight=int(input(\"Weight of the goods:\"))\n",
    "if dist >= 500 :\n",
    "  if weight >= 100 :\n",
    "    print(\"Amount to be charged:\",5*dist)\n",
    "  elif weight < 10 :\n",
    "    print(\"Amount to be charged:\",7*dist)\n",
    "  else :\n",
    "    print(\"Amount to be charged:\",6*dist)\n",
    "else :\n",
    "  if weight <= 100 :\n",
    "    print(\"Amount to be charged:\",8*dist)\n",
    "  else :\n",
    "    print(\"Amount to be charged:\",5*dist)"
   ]
  },
  {
   "cell_type": "code",
   "execution_count": 7,
   "metadata": {},
   "outputs": [
    {
     "name": "stdout",
     "output_type": "stream",
     "text": [
      "Type of Seat:upper class\n",
      "Payment mode(CARD OR CASH):cash\n",
      "Cost of ticket:765\n"
     ]
    }
   ],
   "source": [
    "#question 3\n",
    "seat= input(\"Type of Seat:\").upper()\n",
    "pay = input(\"Payment mode(CARD OR CASH):\").upper()\n",
    "if seat == \"CIRCLE\" and pay == \"CASH\":\n",
    "  print(\"Cost of ticket:675\")\n",
    "elif seat == \"CIRCLE\" and pay == \"CARD\":\n",
    "  print(\"Cost of ticket:712.5\")\n",
    "elif seat == \"STAILS\" and pay == \"CASH\":\n",
    "  print(\"Cost of ticket:562.5\")\n",
    "elif seat == \"STAILS\" and pay == \"CARD\":\n",
    "  print(\"Cost of ticket:593.75\")\n",
    "elif seat == \"UPPER CLASS\" and pay == \"CASH\":\n",
    "  print(\"Cost of ticket:765\")\n",
    "elif seat == \"UPEER CLASS\"and pay == \"CARD\":\n",
    "  print(\"Cost of ticket:807.5\")\n",
    "elif seat == \"BOX\" and pay == \"CASH\":\n",
    "  print(\"Cost of ticket:900\")\n",
    "elif seat == \"BOX\" and pay == \"CARD\":\n",
    "  print(\"Cost of ticket:950\")\n",
    "else :\n",
    "  print(\"given input is not acceptable\")"
   ]
  },
  {
   "cell_type": "code",
   "execution_count": 8,
   "metadata": {},
   "outputs": [
    {
     "name": "stdout",
     "output_type": "stream",
     "text": [
      "Enter the mass of the water50\n",
      "final temp80\n",
      "intial temp60\n"
     ]
    },
    {
     "data": {
      "text/plain": [
       "4184000.0"
      ]
     },
     "execution_count": 8,
     "metadata": {},
     "output_type": "execute_result"
    }
   ],
   "source": [
    "#question 4\n",
    "float(input(\"Enter the mass of the water\"))*(float(input(\"final temp\"))-float(input(\"intial temp\")))*4184"
   ]
  },
  {
   "cell_type": "code",
   "execution_count": 9,
   "metadata": {},
   "outputs": [
    {
     "name": "stdout",
     "output_type": "stream",
     "text": [
      "enter the monthdecember\n",
      "Winter\n"
     ]
    }
   ],
   "source": [
    "#question 5\n",
    "month = input(\"enter the month\").upper()\n",
    "if month == \"DECEMBER\" or month == \"JANUARY\" or month == \"FEBRUARY\" :\n",
    "  print(\"Winter\")\n",
    "elif month == \"MARCH\" or month == \"APRIL\" or month == \"MAY\" :\n",
    "  print(\"SPRING\")\n",
    "elif month == \"JUNE\" or month == \"JULY\" or month == \"AUGUST\" :\n",
    "  print(\"SUMMER\")\n",
    "elif month == \"SEPTEMBER\" or month == \"OCTOBER\" or month == \"NOVEMBER\" :\n",
    "  print(\"AUTUMN\")\n",
    "else :\n",
    "  print(\"not a month\")"
   ]
  },
  {
   "cell_type": "code",
   "execution_count": 12,
   "metadata": {},
   "outputs": [
    {
     "name": "stdout",
     "output_type": "stream",
     "text": [
      "enter the weight in pounds50\n",
      "enter the height in inches25\n",
      "Obese\n"
     ]
    }
   ],
   "source": [
    "#question 6\n",
    "weight = float(input(\"enter the weight in pounds\"))\n",
    "height = float(input(\"enter the height in inches\"))\n",
    "bmi = (weight*0.45359237)/(height*height*0.0254*0.0254)\n",
    "if bmi < 18.5 :\n",
    "  print(\"Underweight\")\n",
    "elif 18.5 < bmi < 25.0 :\n",
    "  print(\"Normal\")\n",
    "elif 25.0 < bmi < 30.0 :\n",
    "  print(\"Overweight\")\n",
    "elif 30.0 < bmi:\n",
    "  print(\"Obese\")"
   ]
  },
  {
   "cell_type": "code",
   "execution_count": 13,
   "metadata": {},
   "outputs": [
    {
     "name": "stdout",
     "output_type": "stream",
     "text": [
      "enter a integer between 100 to 1000950\n",
      "14\n"
     ]
    }
   ],
   "source": [
    "#question 7\n",
    "number = input(\"enter a integer between 100 to 1000\")\n",
    "sum=0\n",
    "for i in number :\n",
    "  sum = sum+ int(i)\n",
    "print(sum)"
   ]
  },
  {
   "cell_type": "code",
   "execution_count": 14,
   "metadata": {},
   "outputs": [
    {
     "name": "stdout",
     "output_type": "stream",
     "text": [
      "1\n",
      "2\n",
      "3\n",
      "4\n",
      "5\n",
      "6\n",
      "7\n",
      "8\n",
      "9\n",
      "11\n",
      "22\n",
      "33\n",
      "44\n",
      "55\n",
      "66\n",
      "77\n",
      "88\n",
      "99\n",
      "101\n",
      "111\n",
      "121\n",
      "131\n",
      "141\n",
      "151\n",
      "161\n",
      "171\n",
      "181\n",
      "191\n",
      "202\n",
      "212\n",
      "222\n",
      "232\n",
      "242\n",
      "252\n",
      "262\n",
      "272\n",
      "282\n",
      "292\n",
      "303\n",
      "313\n",
      "323\n",
      "333\n",
      "343\n",
      "353\n",
      "363\n",
      "373\n",
      "383\n",
      "393\n",
      "404\n",
      "414\n",
      "424\n",
      "434\n",
      "444\n",
      "454\n",
      "464\n",
      "474\n",
      "484\n",
      "494\n",
      "505\n",
      "515\n",
      "525\n",
      "535\n",
      "545\n",
      "555\n",
      "565\n",
      "575\n",
      "585\n",
      "595\n",
      "606\n",
      "616\n",
      "626\n",
      "636\n",
      "646\n",
      "656\n",
      "666\n",
      "676\n",
      "686\n",
      "696\n",
      "707\n",
      "717\n",
      "727\n",
      "737\n",
      "747\n",
      "757\n",
      "767\n",
      "777\n",
      "787\n",
      "797\n",
      "808\n",
      "818\n",
      "828\n",
      "838\n",
      "848\n",
      "858\n",
      "868\n",
      "878\n",
      "888\n",
      "898\n",
      "909\n",
      "919\n",
      "929\n",
      "939\n",
      "949\n",
      "959\n",
      "969\n",
      "979\n",
      "989\n",
      "999\n"
     ]
    }
   ],
   "source": [
    "#question 8\n",
    "for i in range(1,1000):\n",
    "  sum=0\n",
    "  y=i\n",
    "  while i>0 :\n",
    "   x=i%10\n",
    "   i=int(i/10)\n",
    "   sum= sum * 10 + x\n",
    "  if y==sum :\n",
    "   print(y)"
   ]
  },
  {
   "cell_type": "code",
   "execution_count": 15,
   "metadata": {},
   "outputs": [
    {
     "name": "stdout",
     "output_type": "stream",
     "text": [
      "1\n",
      "2\n",
      "3\n",
      "4\n",
      "5\n",
      "6\n",
      "7\n",
      "8\n",
      "9\n",
      "153\n",
      "370\n",
      "371\n",
      "407\n"
     ]
    }
   ],
   "source": [
    "#question 9\n",
    "for i in range(1,1000):\n",
    "  sum=0\n",
    "  y=i\n",
    "  count = len(str(i))\n",
    "  while i>0 :\n",
    "   x=i%10\n",
    "   sum= sum  + x**count\n",
    "   i=int(i/10)\n",
    "  if y==sum :\n",
    "   print(y)"
   ]
  },
  {
   "cell_type": "code",
   "execution_count": 16,
   "metadata": {},
   "outputs": [
    {
     "name": "stdout",
     "output_type": "stream",
     "text": [
      "1\n",
      "2\n",
      "Fizz\n",
      "4\n",
      "Buzz\n",
      "Fizz\n",
      "7\n",
      "8\n",
      "Fizz\n",
      "Buzz\n",
      "11\n",
      "Fizz\n",
      "13\n",
      "14\n",
      "fizz buzz\n",
      "16\n",
      "17\n",
      "Fizz\n",
      "19\n",
      "Buzz\n",
      "Fizz\n",
      "22\n",
      "23\n",
      "Fizz\n",
      "Buzz\n",
      "26\n",
      "Fizz\n",
      "28\n",
      "29\n",
      "fizz buzz\n",
      "31\n",
      "32\n",
      "Fizz\n",
      "34\n",
      "Buzz\n",
      "Fizz\n",
      "37\n",
      "38\n",
      "Fizz\n",
      "Buzz\n",
      "41\n",
      "Fizz\n",
      "43\n",
      "44\n",
      "fizz buzz\n",
      "46\n",
      "47\n",
      "Fizz\n",
      "49\n",
      "Buzz\n",
      "Fizz\n",
      "52\n",
      "53\n",
      "Fizz\n",
      "Buzz\n",
      "56\n",
      "Fizz\n",
      "58\n",
      "59\n",
      "fizz buzz\n",
      "61\n",
      "62\n",
      "Fizz\n",
      "64\n",
      "Buzz\n",
      "Fizz\n",
      "67\n",
      "68\n",
      "Fizz\n",
      "Buzz\n",
      "71\n",
      "Fizz\n",
      "73\n",
      "74\n",
      "fizz buzz\n",
      "76\n",
      "77\n",
      "Fizz\n",
      "79\n",
      "Buzz\n",
      "Fizz\n",
      "82\n",
      "83\n",
      "Fizz\n",
      "Buzz\n",
      "86\n",
      "Fizz\n",
      "88\n",
      "89\n",
      "fizz buzz\n",
      "91\n",
      "92\n",
      "Fizz\n",
      "94\n",
      "Buzz\n",
      "Fizz\n",
      "97\n",
      "98\n",
      "Fizz\n"
     ]
    }
   ],
   "source": [
    "#question 10\n",
    "for i in range(1,100) :\n",
    "  if i % 3 == 0 and i % 5 == 0 :\n",
    "    print(\"fizz buzz\")\n",
    "  elif i % 3 == 0 :\n",
    "    print(\"Fizz\")\n",
    "  elif i % 5 == 0 :\n",
    "    print(\"Buzz\")\n",
    "  else :\n",
    "    print(i)"
   ]
  },
  {
   "cell_type": "code",
   "execution_count": 17,
   "metadata": {},
   "outputs": [
    {
     "name": "stdout",
     "output_type": "stream",
     "text": [
      "Enter the height250\n",
      "Enter the meters climed up50\n",
      "Enter the sliped down20\n",
      "8\n"
     ]
    }
   ],
   "source": [
    "#question 11\n",
    "height = int(input(\"Enter the height\"))\n",
    "up = int(input(\"Enter the meters climed up\"))\n",
    "slip = int(input(\"Enter the sliped down\"))\n",
    "dt = ((height - up)+(up-slip))//(up-slip)\n",
    "print(dt+1)"
   ]
  },
  {
   "cell_type": "code",
   "execution_count": null,
   "metadata": {},
   "outputs": [],
   "source": []
  }
 ],
 "metadata": {
  "kernelspec": {
   "display_name": "Python 3",
   "language": "python",
   "name": "python3"
  },
  "language_info": {
   "codemirror_mode": {
    "name": "ipython",
    "version": 3
   },
   "file_extension": ".py",
   "mimetype": "text/x-python",
   "name": "python",
   "nbconvert_exporter": "python",
   "pygments_lexer": "ipython3",
   "version": "3.7.6"
  }
 },
 "nbformat": 4,
 "nbformat_minor": 4
}
